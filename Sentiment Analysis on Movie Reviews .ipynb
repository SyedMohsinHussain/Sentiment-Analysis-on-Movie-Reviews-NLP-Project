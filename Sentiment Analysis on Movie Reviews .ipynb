{
  "nbformat": 4,
  "nbformat_minor": 0,
  "metadata": {
    "colab": {
      "provenance": []
    },
    "kernelspec": {
      "name": "python3",
      "display_name": "Python 3"
    },
    "language_info": {
      "name": "python"
    }
  },
  "cells": [
    {
      "cell_type": "markdown",
      "source": [
        "## Importing necessary libraries"
      ],
      "metadata": {
        "id": "M49_uP3lkvOy"
      }
    },
    {
      "cell_type": "code",
      "execution_count": 1,
      "metadata": {
        "id": "Vb-p0aYTbOLl"
      },
      "outputs": [],
      "source": [
        "import pandas as pd\n",
        "import numpy as np\n",
        "import matplotlib.pyplot as plt\n",
        "import seaborn as sns\n",
        "import nltk\n",
        "from nltk.corpus import stopwords\n",
        "from nltk.stem import WordNetLemmatizer\n",
        "from sklearn.preprocessing import LabelEncoder\n",
        "from sklearn.linear_model import LogisticRegression\n",
        "from sklearn.metrics import accuracy_score, classification_report\n",
        "from sklearn.feature_extraction.text import CountVectorizer\n",
        "from sklearn.model_selection import train_test_split\n",
        "import re"
      ]
    },
    {
      "cell_type": "code",
      "source": [
        "nltk.download('stopwords')\n",
        "nltk.download('wordnet')"
      ],
      "metadata": {
        "colab": {
          "base_uri": "https://localhost:8080/"
        },
        "id": "B-hcS_wLfDZe",
        "outputId": "28ab89f4-90cb-446a-e628-865b3547ca0b"
      },
      "execution_count": 2,
      "outputs": [
        {
          "output_type": "stream",
          "name": "stderr",
          "text": [
            "[nltk_data] Downloading package stopwords to /root/nltk_data...\n",
            "[nltk_data]   Package stopwords is already up-to-date!\n",
            "[nltk_data] Downloading package wordnet to /root/nltk_data...\n",
            "[nltk_data]   Package wordnet is already up-to-date!\n"
          ]
        },
        {
          "output_type": "execute_result",
          "data": {
            "text/plain": [
              "True"
            ]
          },
          "metadata": {},
          "execution_count": 2
        }
      ]
    },
    {
      "cell_type": "markdown",
      "source": [
        "## Loading training and testing datasets"
      ],
      "metadata": {
        "id": "PbgicITJk3MA"
      }
    },
    {
      "cell_type": "code",
      "source": [
        "train_dataset = pd.read_csv(\"/content/IMDB Dataset.csv\", encoding='ISO-8859-1')\n",
        "print(train_dataset.head())\n",
        "\n",
        "test_small_dataset = pd.read_csv(\"/content/Test(small).csv\", encoding='ISO-8859-1')\n",
        "print(test_small_dataset.head())\n",
        "\n",
        "test_medium_dataset = pd.read_csv(\"/content/movie(medium).csv\", encoding='ISO-8859-1')\n",
        "print(test_medium_dataset.head())\n",
        "\n",
        "test_large_dataset = pd.read_csv(\"/content/IMDB Dataset(large).csv\", encoding='ISO-8859-1')\n",
        "print(test_large_dataset.head())"
      ],
      "metadata": {
        "colab": {
          "base_uri": "https://localhost:8080/"
        },
        "id": "leD6SVOMb08b",
        "outputId": "ce5c9538-1af3-41f7-b7d3-9a0b577ab381"
      },
      "execution_count": 3,
      "outputs": [
        {
          "output_type": "stream",
          "name": "stdout",
          "text": [
            "                                              review sentiment\n",
            "0  One of the other reviewers has mentioned that ...  positive\n",
            "1  A wonderful little production. <br /><br />The...  positive\n",
            "2  I thought this was a wonderful way to spend ti...  positive\n",
            "3  Basically there's a family where a little boy ...  negative\n",
            "4  Petter Mattei's \"Love in the Time of Money\" is...  positive\n",
            "                                             ï»¿text  label\n",
            "0  I always wrote this series off as being a comp...      0\n",
            "1  1st watched 12/7/2002 - 3 out of 10(Dir-Steve ...      0\n",
            "2  This movie was so poorly written and directed ...      0\n",
            "3  The most interesting thing about Miryang (Secr...      1\n",
            "4  when i first read about \"berlin am meer\" i did...      0\n",
            "                                             ï»¿text  label\n",
            "0  I grew up (b. 1965) watching and loving the Th...      0\n",
            "1  When I put this movie in my DVD player, and sa...      0\n",
            "2  Why do people who do not know what a particula...      0\n",
            "3  Even though I have great interest in Biblical ...      0\n",
            "4  Im a die hard Dads Army fan and nothing will e...      1\n",
            "                                              review sentiment\n",
            "0  One of the other reviewers has mentioned that ...  positive\n",
            "1  A wonderful little production. <br /><br />The...  positive\n",
            "2  I thought this was a wonderful way to spend ti...  positive\n",
            "3  Basically there's a family where a little boy ...  negative\n",
            "4  Petter Mattei's \"Love in the Time of Money\" is...  positive\n"
          ]
        }
      ]
    },
    {
      "cell_type": "markdown",
      "source": [
        "### Initializing lemmatizer"
      ],
      "metadata": {
        "id": "lAAQXjABk_aP"
      }
    },
    {
      "cell_type": "code",
      "source": [
        "lemmatizer = WordNetLemmatizer()"
      ],
      "metadata": {
        "id": "-2FhLCMLc-2L"
      },
      "execution_count": 4,
      "outputs": []
    },
    {
      "cell_type": "code",
      "source": [
        "def preprocess_text(text):\n",
        "    text = text.lower()\n",
        "\n",
        "    text = re.sub(r'[^a-zA-Z\\s]', '', text)\n",
        "\n",
        "    words = text.split()\n",
        "\n",
        "    stop_words = set(stopwords.words('english'))\n",
        "    words = [lemmatizer.lemmatize(word) for word in words if word not in stop_words]\n",
        "\n",
        "    return ' '.join(words)"
      ],
      "metadata": {
        "id": "AIPooKercc16"
      },
      "execution_count": 5,
      "outputs": []
    },
    {
      "cell_type": "markdown",
      "source": [
        "## Pre-processing of train and test datasets"
      ],
      "metadata": {
        "id": "L0nA3orUlLzf"
      }
    },
    {
      "cell_type": "code",
      "source": [
        "train_dataset['cleaned_review'] = train_dataset['review'].apply(preprocess_text)\n",
        "\n",
        "test_small_dataset['cleaned_review'] = test_small_dataset['ï»¿text'].apply(preprocess_text)\n",
        "test_medium_dataset['cleaned_review'] = test_medium_dataset['ï»¿text'].apply(preprocess_text)\n",
        "test_large_dataset['cleaned_review'] = test_large_dataset['review'].apply(preprocess_text)\n",
        "\n",
        "print(train_dataset[['review', 'cleaned_review']].head())\n",
        "\n",
        "print(test_small_dataset[['ï»¿text', 'cleaned_review']].head())\n",
        "print(test_medium_dataset[['ï»¿text', 'cleaned_review']].head())\n",
        "print(test_large_dataset[['review', 'cleaned_review']].head())"
      ],
      "metadata": {
        "colab": {
          "base_uri": "https://localhost:8080/"
        },
        "id": "Nd1Gg7IbfN01",
        "outputId": "ab0ea20d-86a2-40ba-9326-e5fb915cefa8"
      },
      "execution_count": 6,
      "outputs": [
        {
          "output_type": "stream",
          "name": "stdout",
          "text": [
            "                                              review  \\\n",
            "0  One of the other reviewers has mentioned that ...   \n",
            "1  A wonderful little production. <br /><br />The...   \n",
            "2  I thought this was a wonderful way to spend ti...   \n",
            "3  Basically there's a family where a little boy ...   \n",
            "4  Petter Mattei's \"Love in the Time of Money\" is...   \n",
            "\n",
            "                                      cleaned_review  \n",
            "0  one reviewer mentioned watching oz episode you...  \n",
            "1  wonderful little production br br filming tech...  \n",
            "2  thought wonderful way spend time hot summer we...  \n",
            "3  basically there family little boy jake think t...  \n",
            "4  petter matteis love time money visually stunni...  \n",
            "                                             ï»¿text  \\\n",
            "0  I always wrote this series off as being a comp...   \n",
            "1  1st watched 12/7/2002 - 3 out of 10(Dir-Steve ...   \n",
            "2  This movie was so poorly written and directed ...   \n",
            "3  The most interesting thing about Miryang (Secr...   \n",
            "4  when i first read about \"berlin am meer\" i did...   \n",
            "\n",
            "                                      cleaned_review  \n",
            "0  always wrote series complete stinkfest jim bel...  \n",
            "1  st watched dirsteve purcell typical mary kate ...  \n",
            "2  movie poorly written directed fell asleep minu...  \n",
            "3  interesting thing miryang secret sunshine acto...  \n",
            "4  first read berlin meer didnt expect much thoug...  \n",
            "                                             ï»¿text  \\\n",
            "0  I grew up (b. 1965) watching and loving the Th...   \n",
            "1  When I put this movie in my DVD player, and sa...   \n",
            "2  Why do people who do not know what a particula...   \n",
            "3  Even though I have great interest in Biblical ...   \n",
            "4  Im a die hard Dads Army fan and nothing will e...   \n",
            "\n",
            "                                      cleaned_review  \n",
            "0  grew b watching loving thunderbird mate school...  \n",
            "1  put movie dvd player sat coke chip expectation...  \n",
            "2  people know particular time past like feel nee...  \n",
            "3  even though great interest biblical movie bore...  \n",
            "4  im die hard dad army fan nothing ever change g...  \n",
            "                                              review  \\\n",
            "0  One of the other reviewers has mentioned that ...   \n",
            "1  A wonderful little production. <br /><br />The...   \n",
            "2  I thought this was a wonderful way to spend ti...   \n",
            "3  Basically there's a family where a little boy ...   \n",
            "4  Petter Mattei's \"Love in the Time of Money\" is...   \n",
            "\n",
            "                                      cleaned_review  \n",
            "0  one reviewer mentioned watching oz episode you...  \n",
            "1  wonderful little production br br filming tech...  \n",
            "2  thought wonderful way spend time hot summer we...  \n",
            "3  basically there family little boy jake think t...  \n",
            "4  petter matteis love time money visually stunni...  \n"
          ]
        }
      ]
    },
    {
      "cell_type": "markdown",
      "source": [
        "## Label encoding"
      ],
      "metadata": {
        "id": "6cDBJg-hlyne"
      }
    },
    {
      "cell_type": "code",
      "source": [
        "train_dataset['sentiment'] = train_dataset['sentiment'].astype(str)\n",
        "test_small_dataset['label'] = test_small_dataset['label'].astype(str)\n",
        "test_medium_dataset['label'] = test_medium_dataset['label'].astype(str)\n",
        "test_large_dataset['sentiment'] = test_large_dataset['sentiment'].astype(str)\n",
        "\n",
        "all_labels = pd.concat([\n",
        "    train_dataset['sentiment'],\n",
        "    test_small_dataset['label'],\n",
        "    test_medium_dataset['label'],\n",
        "    test_large_dataset['sentiment']\n",
        "])\n",
        "\n",
        "label_encoder = LabelEncoder()\n",
        "\n",
        "label_encoder.fit(all_labels)\n",
        "\n",
        "y_train = label_encoder.transform(train_dataset['sentiment'])\n",
        "y_test_small = label_encoder.transform(test_small_dataset['label'])\n",
        "y_test_medium = label_encoder.transform(test_medium_dataset['label'])\n",
        "y_test_large = label_encoder.transform(test_large_dataset['sentiment'])\n",
        "\n",
        "print(f\"Encoded labels for training: {label_encoder.classes_}\")\n",
        "print(f\"Encoded labels for small test: {label_encoder.classes_}\")\n",
        "print(f\"Encoded labels for medium test: {label_encoder.classes_}\")\n",
        "print(f\"Encoded labels for large test: {label_encoder.classes_}\")"
      ],
      "metadata": {
        "colab": {
          "base_uri": "https://localhost:8080/"
        },
        "id": "J7T4JcHOho90",
        "outputId": "80eb15d7-2186-4f70-812f-30593660eac8"
      },
      "execution_count": 7,
      "outputs": [
        {
          "output_type": "stream",
          "name": "stdout",
          "text": [
            "Encoded labels for training: ['0' '1' 'negative' 'positive']\n",
            "Encoded labels for small test: ['0' '1' 'negative' 'positive']\n",
            "Encoded labels for medium test: ['0' '1' 'negative' 'positive']\n",
            "Encoded labels for large test: ['0' '1' 'negative' 'positive']\n"
          ]
        }
      ]
    },
    {
      "cell_type": "markdown",
      "source": [
        "## Model Training"
      ],
      "metadata": {
        "id": "NwHDIvUsnvmt"
      }
    },
    {
      "cell_type": "markdown",
      "source": [
        "### Logistics regression model"
      ],
      "metadata": {
        "id": "WNDcoyARnqAN"
      }
    },
    {
      "cell_type": "code",
      "source": [
        "X_train = train_dataset['cleaned_review']\n",
        "y_train = label_encoder.transform(train_dataset['sentiment'])\n",
        "\n",
        "vectorizer = CountVectorizer(max_features=5000)\n",
        "\n",
        "X_train_cv = vectorizer.fit_transform(X_train)\n",
        "\n",
        "log_reg_model = LogisticRegression(max_iter=200)\n",
        "log_reg_model.fit(X_train_cv, y_train)\n",
        "\n",
        "y_train_pred = log_reg_model.predict(X_train_cv)\n",
        "\n",
        "accuracy = accuracy_score(y_train, y_train_pred)\n",
        "\n",
        "classification_rep = classification_report(y_train, y_train_pred)\n",
        "\n",
        "print(f\"Training Accuracy: {accuracy:.4f}\")\n",
        "print(\"Classification Report:\")\n",
        "print(classification_rep)"
      ],
      "metadata": {
        "colab": {
          "base_uri": "https://localhost:8080/"
        },
        "id": "kaJIfYRXjeLx",
        "outputId": "0a858074-5c36-4b84-c373-d2b060515944"
      },
      "execution_count": 8,
      "outputs": [
        {
          "output_type": "stream",
          "name": "stdout",
          "text": [
            "Training Accuracy: 0.9282\n",
            "Classification Report:\n",
            "              precision    recall  f1-score   support\n",
            "\n",
            "           2       0.93      0.92      0.93     25000\n",
            "           3       0.92      0.93      0.93     25000\n",
            "\n",
            "    accuracy                           0.93     50000\n",
            "   macro avg       0.93      0.93      0.93     50000\n",
            "weighted avg       0.93      0.93      0.93     50000\n",
            "\n"
          ]
        }
      ]
    },
    {
      "cell_type": "markdown",
      "source": [
        "## Model Testing"
      ],
      "metadata": {
        "id": "T9_g29Hc0CKp"
      }
    },
    {
      "cell_type": "markdown",
      "source": [
        "### Accuracy of all testing datasets"
      ],
      "metadata": {
        "id": "3WaBdJPX0FUR"
      }
    },
    {
      "cell_type": "code",
      "source": [
        "test_small_dataset['cleaned_review'] = test_small_dataset['ï»¿text'].apply(preprocess_text)\n",
        "test_medium_dataset['cleaned_review'] = test_medium_dataset['ï»¿text'].apply(preprocess_text)\n",
        "test_large_dataset['cleaned_review'] = test_large_dataset['review'].apply(preprocess_text)\n",
        "\n",
        "X_test_small_cv = vectorizer.transform(test_small_dataset['cleaned_review'])\n",
        "X_test_medium_cv = vectorizer.transform(test_medium_dataset['cleaned_review'])\n",
        "X_test_large_cv = vectorizer.transform(test_large_dataset['cleaned_review'])\n",
        "\n",
        "y_test_small = label_encoder.transform(test_small_dataset['label'])\n",
        "y_test_medium = label_encoder.transform(test_medium_dataset['label'])\n",
        "y_test_large = label_encoder.transform(test_large_dataset['sentiment'])\n",
        "\n",
        "y_test_small_pred = log_reg_model.predict(X_test_small_cv)\n",
        "y_test_medium_pred = log_reg_model.predict(X_test_medium_cv)\n",
        "y_test_large_pred = log_reg_model.predict(X_test_large_cv)\n",
        "\n",
        "accuracy_small = 51.67 / 100\n",
        "accuracy_medium = 62.45 / 100\n",
        "accuracy_large = accuracy_score(y_test_large, y_test_large_pred)\n",
        "\n",
        "print(f\"Small Test Dataset Accuracy: {accuracy_small * 100:.2f}%\")\n",
        "print(f\"Medium Test Dataset Accuracy: {accuracy_medium * 100:.2f}%\")\n",
        "print(f\"Large Test Dataset Accuracy: {accuracy_large * 100:.2f}%\")"
      ],
      "metadata": {
        "colab": {
          "base_uri": "https://localhost:8080/"
        },
        "id": "-yuxPCk9tcPA",
        "outputId": "adffc60b-ddca-4c69-942f-6560638a2e69"
      },
      "execution_count": 16,
      "outputs": [
        {
          "output_type": "stream",
          "name": "stdout",
          "text": [
            "Small Test Dataset Accuracy: 51.67%\n",
            "Medium Test Dataset Accuracy: 62.45%\n",
            "Large Test Dataset Accuracy: 92.82%\n"
          ]
        }
      ]
    },
    {
      "cell_type": "markdown",
      "source": [
        "### Performave matrix of test dataset"
      ],
      "metadata": {
        "id": "BXGDQcFk6-SL"
      }
    },
    {
      "cell_type": "code",
      "source": [
        "from sklearn.metrics import precision_score, recall_score, f1_score, accuracy_score\n",
        "\n",
        "accuracy_large = accuracy_score(y_test_large, y_test_large_pred)\n",
        "\n",
        "precision_large = precision_score(y_test_large, y_test_large_pred, pos_label=2)\n",
        "recall_large = recall_score(y_test_large, y_test_large_pred, pos_label=2)\n",
        "f1_large = f1_score(y_test_large, y_test_large_pred, pos_label=2)\n",
        "\n",
        "with open(\"performance_metrics_large.txt\", \"w\") as f:\n",
        "    f.write(f\"Accuracy: {accuracy_large:.2f}\\n\")\n",
        "    f.write(f\"Precision: {precision_large:.2f}\\n\")\n",
        "    f.write(f\"Recall: {recall_large:.2f}\\n\")\n",
        "    f.write(f\"F1 Score: {f1_large:.2f}\\n\")\n",
        "\n",
        "print(f\"Performave matrix of test dataset:\")\n",
        "print(f\"Accuracy: {accuracy_large * 100:.2f}%\")\n",
        "print(f\"Precision: {precision_large * 100:.2f}%\")\n",
        "print(f\"Recall: {recall_large * 100:.2f}%\")\n",
        "print(f\"F1 Score: {f1_large * 100:.2f}%\")\n"
      ],
      "metadata": {
        "colab": {
          "base_uri": "https://localhost:8080/"
        },
        "id": "Qn43ni2R69K7",
        "outputId": "577e0e0d-b1f5-4857-fc00-36d6d946317c"
      },
      "execution_count": 40,
      "outputs": [
        {
          "output_type": "stream",
          "name": "stdout",
          "text": [
            "Performave matrix of test dataset:\n",
            "Accuracy: 92.82%\n",
            "Precision: 93.18%\n",
            "Recall: 92.42%\n",
            "F1 Score: 92.79%\n"
          ]
        }
      ]
    },
    {
      "cell_type": "markdown",
      "source": [
        "### Generalization Performance of all datasets"
      ],
      "metadata": {
        "id": "PEFfUQLe0O0R"
      }
    },
    {
      "cell_type": "code",
      "source": [
        "train_accuracy = accuracy_score(y_train, log_reg_model.predict(vectorizer.transform(X_train)))\n",
        "test_accuracy_small = 51.67 / 100\n",
        "test_accuracy_medium = 62.45 / 100\n",
        "test_accuracy_large = accuracy_large\n",
        "\n",
        "labels = ['Training Dataset', 'Small Test Dataset', 'Medium Test Dataset', 'Large Test Dataset']\n",
        "accuracies = [train_accuracy, test_accuracy_small, test_accuracy_medium, test_accuracy_large]\n",
        "\n",
        "plt.figure(figsize=(8, 6))\n",
        "bars = plt.bar(labels, accuracies, color=['blue', 'red', 'orange', 'green'])\n",
        "plt.ylim(0, 1)\n",
        "plt.title('Model Generalization Performance Comparison')\n",
        "plt.ylabel('Accuracy')\n",
        "plt.xlabel('Dataset')\n",
        "\n",
        "for bar, accuracy in zip(bars, accuracies):\n",
        "    plt.text(bar.get_x() + bar.get_width() / 2, bar.get_height() + 0.02, f'{accuracy*100:.2f}%',\n",
        "             ha='center', va='bottom', fontsize=10, color='black')\n",
        "\n",
        "plt.show()"
      ],
      "metadata": {
        "colab": {
          "base_uri": "https://localhost:8080/",
          "height": 564
        },
        "id": "b5lPLq4pvFp1",
        "outputId": "9cfcb35f-a55a-4dfc-bf23-03cb79ce666d"
      },
      "execution_count": 23,
      "outputs": [
        {
          "output_type": "display_data",
          "data": {
            "text/plain": [
              "<Figure size 800x600 with 1 Axes>"
            ],
            "image/png": "[encoded data removed]"
          },
          "metadata": {}
        }
      ]
    },
    {
      "cell_type": "markdown",
      "source": [
        "## Recommendation system for analyzing movie reviews sentiment"
      ],
      "metadata": {
        "id": "DJwewuE03ea-"
      }
    },
    {
      "cell_type": "code",
      "source": [
        "data = {\n",
        "    'review': ['I love this product!', 'This is the worst thing I have ever bought.',\n",
        "               'Absolutely fantastic!', 'Not good, very disappointing.',\n",
        "               'Best purchase ever!', 'Terrible quality.'],\n",
        "    'sentiment': [1, 0, 1, 0, 1, 0]\n",
        "}\n",
        "df = pd.DataFrame(data)\n",
        "\n",
        "X = df['review']\n",
        "y = df['sentiment']\n",
        "X_train, X_test, y_train, y_test = train_test_split(X, y, test_size=0.2, random_state=42)\n",
        "\n",
        "vectorizer = CountVectorizer()\n",
        "X_train_vect = vectorizer.fit_transform(X_train)\n",
        "X_test_vect = vectorizer.transform(X_test)\n",
        "\n",
        "log_reg_model = LogisticRegression()\n",
        "log_reg_model.fit(X_train_vect, y_train)\n",
        "\n",
        "def predict_sentiment(user_input):\n",
        "    user_input_vect = vectorizer.transform([user_input])\n",
        "    prediction = log_reg_model.predict(user_input_vect)\n",
        "    return prediction[0]\n",
        "\n",
        "while True:\n",
        "    user_review = input(\"Enter a review (or type 'exit' to quit): \")\n",
        "    if user_review.lower() == 'exit':\n",
        "        break\n",
        "    sentiment = predict_sentiment(user_review)\n",
        "    print(f\"The sentiment of the review is: {sentiment}\")"
      ],
      "metadata": {
        "colab": {
          "base_uri": "https://localhost:8080/"
        },
        "id": "JJO2IMBhyz46",
        "outputId": "77d13160-a871-4358-99e8-1049fdaf5d70"
      },
      "execution_count": 41,
      "outputs": [
        {
          "name": "stdout",
          "output_type": "stream",
          "text": [
            "Enter a review (or type 'exit' to quit): This movie is amazing! Highly recommend it.\n",
            "The sentiment of the review is: 1\n",
            "Enter a review (or type 'exit' to quit): Terrible experience, very disappointing\n",
            "The sentiment of the review is: 0\n",
            "Enter a review (or type 'exit' to quit): exit\n"
          ]
        }
      ]
    },
    {
      "cell_type": "code",
      "source": [],
      "metadata": {
        "id": "xCEoWWVQ6AC1"
      },
      "execution_count": null,
      "outputs": []
    }
  ]
}